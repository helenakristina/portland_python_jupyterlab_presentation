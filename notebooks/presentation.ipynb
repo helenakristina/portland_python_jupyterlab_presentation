{
 "cells": [
  {
   "cell_type": "markdown",
   "metadata": {
    "slideshow": {
     "slide_type": "-"
    }
   },
   "source": [
    "# JupyterLab: Not Just a Notebook Anymore\n",
    "\n",
    "___\n",
    "\n",
    "\n"
   ]
  },
  {
   "cell_type": "markdown",
   "metadata": {},
   "source": [
    "### About me\n",
    "Helena Lucia\n",
    "- Live in Vancouver, WA with my partner, Corey and our combined family of five kids\n",
    "- Originally from MN, have been in the NW 23 years\n",
    "- Work as remote Software Engineer for Cox Automotive\n",
    "\n",
    "<img src='/img/family.jpg'>"
   ]
  },
  {
   "cell_type": "markdown",
   "metadata": {},
   "source": [
    "### Jupyter Notebook:\n",
    "\n",
    "Many of you know the trusty Jupyter Notebook, previously called IPython Notebook, that so many of us trust for hashing out quick pieces of code.\n",
    "\n",
    "- Allow us to easily share code, examples and tutorials\n",
    "- Allow scientists, researchers, and academics to visualize data without learning tons about infrastructure\n",
    "\n",
    "There was a recent article in the <i>Atlantic</i>:\n",
    "https://www.theatlantic.com/science/archive/2018/04/the-scientific-paper-is-obsolete/556676/\n",
    "\n",
    "___\n"
   ]
  },
  {
   "cell_type": "markdown",
   "metadata": {},
   "source": [
    "### Jupyter Lab is the next generation of Jupyter Notebook:\n",
    "\n",
    "#### A full-service IDE including:\n",
    "\n",
    "- Notebook\n",
    "- Console\n",
    "- Text Editor\n",
    "- Terminal\n",
    "- Command Palette to manage tabs, system settings\n",
    "- An open-source community for third-party plugins\n",
    "- Drag-and-drop customizable interface\n",
    "\n",
    "___"
   ]
  },
  {
   "cell_type": "markdown",
   "metadata": {},
   "source": [
    "Left panel plugins:\n",
    "    - File Browser\n",
    "<img src='/img/file_explorer.png'>\n",
    "    - Manage running kernels\n",
    "<img src='/img/running_kernels.png'>\n",
    "    - Command Palette\n",
    "<img src='/img/command_palette.png'>\n",
    "    - Cell Tools\n",
    "<img src='/img/cell_tools.png'>\n",
    "    - Tabs\n",
    "<img src='/img/tabs.png'>\n"
   ]
  },
  {
   "cell_type": "markdown",
   "metadata": {},
   "source": [
    "Notebooks in Jupyter Lab\n",
    "- You can collapse input/output\n",
    "- You can drag and drop cells\n",
    "- You can show multiple views of same notebook if you have a very large notebook\n",
    "- You can connect a console in a notebook to debug a variable\n",
    "- If you run a cell in the notebok, you can watch it execute in console\n"
   ]
  },
  {
   "cell_type": "markdown",
   "metadata": {},
   "source": [
    "### Markdown Preview example\n",
    "<img src='/img/markdown_preview.png'>\n",
    "\n",
    "# GeoJSON/JSON example\n",
    "<img src='/img/geo_json_plugin.png'>\n",
    "\n",
    "# CSV example\n",
    "<img src='/img/csv.png'>\n"
   ]
  },
  {
   "cell_type": "markdown",
   "metadata": {},
   "source": [
    "### Multiple views and console make data visualization easy\n",
    "- Import CSV data (or whatever format you like)\n",
    "- Use data to make graphs, visualizations\n",
    "\n",
    "### Export notebook and make it publicly available\n",
    "- Export as HTML\n",
    "- Add code toggle snippet (optional)\n",
    "- Add it to https://gist.github.com/ as gist\n",
    "- Use rawgit to expose it\n",
    "- Go to web page\n",
    "\n",
    "\n",
    "### JupyterLab is not constrained to Python\n",
    "<img src='/img/other_languages.png'>"
   ]
  },
  {
   "cell_type": "markdown",
   "metadata": {},
   "source": [
    "### Plugin architecture (from documentation)\n",
    "The genius of open-source is being able to shape your tools to your heart's content.\n",
    "\n",
    "Just like Jupyter is built on top of building blocks of the protocol and message spec, you can build on this platform for your workflow.\n",
    "\n",
    "- Everything in JupyterLab is an extension, including everything we have demoed\n",
    "- Extensions are just npm packages with metadata\n",
    "\n",
    "Jupyter is looking for contributors, starting with documentation on a new project is a great way to start contributing to open source\n"
   ]
  },
  {
   "cell_type": "markdown",
   "metadata": {},
   "source": [
    "### Terminal:\n",
    "    - You no longer have to navigate away from your environment to install new libraries (immediately available on your notebook)\n",
    "    - You can manage your git repository from within Jupyter environment\n",
    "\n",
    "### Repo link\n",
    "<a href='https://github.com/helenakristina/portland_python_jupyterlab_presentation'> Clone the repo here </a>"
   ]
  },
  {
   "cell_type": "code",
   "execution_count": null,
   "metadata": {},
   "outputs": [],
   "source": []
  }
 ],
 "metadata": {
  "kernelspec": {
   "display_name": "Python 3",
   "language": "python",
   "name": "python3"
  },
  "language_info": {
   "codemirror_mode": {
    "name": "ipython",
    "version": 3
   },
   "file_extension": ".py",
   "mimetype": "text/x-python",
   "name": "python",
   "nbconvert_exporter": "python",
   "pygments_lexer": "ipython3",
   "version": "3.6.3"
  }
 },
 "nbformat": 4,
 "nbformat_minor": 2
}
